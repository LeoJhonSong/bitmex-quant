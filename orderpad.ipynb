{
 "cells": [
  {
   "cell_type": "code",
   "execution_count": 20,
   "metadata": {},
   "outputs": [
    {
     "name": "stderr",
     "output_type": "stream",
     "text": [
      "/home/leo/.pyenv/versions/3.9.10/envs/bitmex/lib/python3.9/site-packages/swagger_spec_validator/validator20.py:48: SwaggerValidationWarning: Found \"$ref: #/definitions/UserPreferences\" with siblings that will be overwritten. See https://stackoverflow.com/a/48114924 for more information. (path #/definitions/User/properties/preferences)\n",
      "  warnings.warn(\n"
     ]
    }
   ],
   "source": [
    "import os\n",
    "import json\n",
    "import bitmex\n",
    "\n",
    "os.environ['http_proxy'] = 'http://127.0.0.1:7890'\n",
    "os.environ['https_proxy'] = 'http://127.0.0.1:7890'\n",
    "bitmex_api_key = 'JF8GR_27DIY_thNGjXorGVSV'\n",
    "bitmex_api_secret = 'GJVNC6JhPK3idX6IFBKy9D5KVS_1RJ2uTHEaGUz1jLOfuPIV'\n",
    "\n",
    "client = bitmex.bitmex(test=True, api_key=bitmex_api_key, api_secret=bitmex_api_secret)"
   ]
  },
  {
   "cell_type": "code",
   "execution_count": 26,
   "metadata": {},
   "outputs": [],
   "source": [
    "symbol0 = 'XBTUSD'\n",
    "ordType0 = 'Limit'\n",
    "orderQty0 = 100\n",
    "\n",
    "quote = client.Quote.Quote_get(symbol=symbol0, reverse=True, count=1).result()\n",
    "bidprice = quote[0][0]['bidPrice']\n",
    "askprice = quote[0][0]['askPrice']"
   ]
  },
  {
   "cell_type": "code",
   "execution_count": 21,
   "metadata": {},
   "outputs": [
    {
     "name": "stderr",
     "output_type": "stream",
     "text": [
      "/home/leo/.pyenv/versions/3.9.10/envs/bitmex/lib/python3.9/site-packages/bravado_core/spec.py:462: Warning: guid format is not registered with bravado-core!\n",
      "  warnings.warn(\n"
     ]
    }
   ],
   "source": [
    "#client.Order.Order_new(symbol=symbol, orderQty=orderQty, ordType=ordType).result()\n",
    "#client.Order.Order_new(symbol=symbol, ordType='Stop', pegPriceType='TrailingStopPeg', pegOffsetValue=-100, type='MarketIfTouched', execInst='LastPrice', orderQty=-1000).result()\n",
    "#client.Order.Order_new(symbol=symbol, side='Sell', orderQty=orderQty, pegOffsetValue=-100, pegPriceType='TrailingStopPeg', ordType='Stop', execInst='LastPrice')\n",
    "\n",
    "#Order = client.Order.Order_new(symbol=symbol, orderQty=-orderQty, ordType=ordType, price=askprice).result()\n",
    "#Stop = client.Order.Order_new(symbol=symbol, orderQty=orderQty, ordType='Stop', stopPx=round(askprice*1.03,1), execInst='LastPrice').result()\n",
    "NewOrder = client.Order.Order_new(symbol=symbol0, orderQty=orderQty0, ordType=ordType0, price=askprice).result()"
   ]
  },
  {
   "cell_type": "code",
   "execution_count": null,
   "metadata": {},
   "outputs": [],
   "source": [
    "StopSell = client.Order.Order_new(symbol=symbol0, orderQty=-orderQty0, ordType='Stop', stopPx=round(askprice * 0.9, 0), execInst='LastPrice').result()"
   ]
  },
  {
   "cell_type": "code",
   "execution_count": 13,
   "metadata": {},
   "outputs": [
    {
     "name": "stdout",
     "output_type": "stream",
     "text": [
      "True\n",
      "False\n"
     ]
    }
   ],
   "source": [
    "def tradeHistory():\n",
    "    tradeHist = client.Execution.Execution_getTradeHistory(symbol=symbol0).result()\n",
    "    prevType = tradeHist[0][0]['ordType']\n",
    "    prevSide = tradeHist[0][0]['side']\n",
    "    if prevType == 'Stop':\n",
    "        if prevSide == 'Buy':\n",
    "            noSell = True\n",
    "        elif prevSide == 'Sell':\n",
    "            noBuy = True\n",
    "        else:\n",
    "            warning('Order Side Error: Response is neither Buy nor Sell')\n",
    "    else:\n",
    "        noBuy = True\n",
    "        noSell = False\n",
    "    return noBuy, noSell\n",
    "\n",
    "\n",
    "noBuy, noSell = tradeHistory()\n",
    "print(noBuy)\n",
    "print(noSell)"
   ]
  },
  {
   "cell_type": "code",
   "execution_count": 34,
   "metadata": {},
   "outputs": [
    {
     "name": "stdout",
     "output_type": "stream",
     "text": [
      "e27c9589-143d-4ac0-8128-1782d0b7ed4a\n",
      "Filled\n"
     ]
    }
   ],
   "source": [
    "print(NewOrder[0]['orderID'])\n",
    "order, _ = client.Order.Order_getOrders(filter=json.dumps({'orderID': NewOrder[0]['orderID']})).result()\n",
    "print(order[0]['ordStatus'])"
   ]
  },
  {
   "cell_type": "code",
   "execution_count": 41,
   "metadata": {},
   "outputs": [
    {
     "name": "stdout",
     "output_type": "stream",
     "text": [
      "dict_keys(['orderID', 'clOrdID', 'clOrdLinkID', 'account', 'symbol', 'side', 'simpleOrderQty', 'orderQty', 'price', 'displayQty', 'stopPx', 'pegOffsetValue', 'pegPriceType', 'currency', 'settlCurrency', 'ordType', 'timeInForce', 'execInst', 'contingencyType', 'exDestination', 'ordStatus', 'triggered', 'workingIndicator', 'ordRejReason', 'simpleLeavesQty', 'leavesQty', 'simpleCumQty', 'cumQty', 'avgPx', 'multiLegReportingType', 'text', 'transactTime', 'timestamp'])\n",
      "Buy\n"
     ]
    }
   ],
   "source": [
    "print(NewOrder[0].keys())\n",
    "print(NewOrder[0]['side'])"
   ]
  }
 ],
 "metadata": {
  "interpreter": {
   "hash": "d36f3af2a96eca6a6a34356754793ff80b84be89d31e08048114f46664e00d6b"
  },
  "kernelspec": {
   "display_name": "Python 3.10.2 64-bit ('algo')",
   "language": "python",
   "name": "python3"
  },
  "language_info": {
   "codemirror_mode": {
    "name": "ipython",
    "version": 3
   },
   "file_extension": ".py",
   "mimetype": "text/x-python",
   "name": "python",
   "nbconvert_exporter": "python",
   "pygments_lexer": "ipython3",
   "version": "3.9.10"
  },
  "orig_nbformat": 4
 },
 "nbformat": 4,
 "nbformat_minor": 2
}
